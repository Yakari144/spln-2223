{
 "cells": [
  {
   "attachments": {},
   "cell_type": "markdown",
   "metadata": {},
   "source": [
    "Z -> E*\n",
    "\n",
    "E -> EC\n",
    "   | ER\n",
    "\n",
    "EC -> numero Galego CatG AreaT Sinonimos Linguas Nota\n",
    "\n",
    "Galego -> palavra\n",
    "\n",
    "CatG -> letra\n",
    "\n",
    "AreaT -> frase\n",
    "    \n",
    "Sinonimos -> Sin\n",
    "          |  Var\n",
    "\n",
    "Sin -> SIN frase\n",
    "Var -> VAR frase\n",
    "        \n",
    "Linguas -> PAIS frase\n",
    "\n",
    "PAIS -> es\n",
    "      | en\n",
    "      | pt\n",
    "      | la\n",
    "\n",
    "ER -> "
   ]
  },
  {
   "attachments": {},
   "cell_type": "raw",
   "metadata": {},
   "source": [
    "97\tadución     f \n",
    "    Fisioloxía  Anatomía\n",
    "    SIN.- aproximación\n",
    "    VAR.- addución\n",
    "\t    es\t adducción; aducción; aproximación\n",
    "\t    en\t adduction\n",
    "\t    pt\t adução; aproximação\n",
    "\t    la\t adductio"
   ]
  },
  {
   "attachments": {},
   "cell_type": "raw",
   "metadata": {},
   "source": [
    "    Entrada completa\n",
    "Galego CategoriaGramatical\n",
    "AreaTematica\n",
    "Sinonimos\n",
    "Variantes\n",
    "Espanhol(separados por ';' as varias palavras)\n",
    "Ingles\n",
    "Portugues\n",
    "Latim\n",
    "Nota"
   ]
  }
 ],
 "metadata": {
  "kernelspec": {
   "display_name": "Python 3",
   "language": "python",
   "name": "python3"
  },
  "language_info": {
   "name": "python",
   "version": "3.10.10"
  },
  "orig_nbformat": 4,
  "vscode": {
   "interpreter": {
    "hash": "97cc609b13305c559618ec78a438abc56230b9381f827f22d070313b9a1f3777"
   }
  }
 },
 "nbformat": 4,
 "nbformat_minor": 2
}
