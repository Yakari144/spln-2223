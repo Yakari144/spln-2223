{
 "cells": [
  {
   "cell_type": "code",
   "execution_count": null,
   "metadata": {},
   "outputs": [],
   "source": [
    "import re\n",
    "\n",
    "livro1 = open('livros/Harry_Potter_e_a_pedra_filosofal-ptpt.txt', 'r')\n",
    "livro2 = open('livros/Harry_Potter_e_a_camara_dos_segredos.txt', 'r')\n",
    "livro3 = open('livros/harry_potter_e_o_enigma_do_principe-J._K._Rowling.txt', 'r')\n",
    "livro4 = open('livros/harry_potter_e_o_calice_de_fogo-J._K._Rowling.txt', 'r')\n",
    "livro5 = open('livros/J.K.Rowling-5-Harry_Potter_e_a_Ordem_da_Fenix.txt', 'r')\n",
    "livro6 = open('livros/J.K.Rowling-7-Harry_Potter_e_As_Reliquias_da_Morte.txt', 'r')"
   ]
  }
 ],
 "metadata": {
  "language_info": {
   "name": "python"
  },
  "orig_nbformat": 4
 },
 "nbformat": 4,
 "nbformat_minor": 2
}
